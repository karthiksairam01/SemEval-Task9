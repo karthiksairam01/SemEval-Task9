{
  "cells": [
    {
      "cell_type": "code",
      "execution_count": null,
      "metadata": {
        "colab": {
          "base_uri": "https://localhost:8080/"
        },
        "id": "MI1ewHm3_vP8",
        "outputId": "7a35d271-bae2-488f-ebae-c3ef55c4a295"
      },
      "outputs": [
        {
          "output_type": "stream",
          "name": "stdout",
          "text": [
            "Requirement already satisfied: networkx in /usr/local/lib/python3.10/dist-packages (3.4.2)\n",
            "Requirement already satisfied: pandas in /usr/local/lib/python3.10/dist-packages (2.2.2)\n",
            "Requirement already satisfied: tqdm in /usr/local/lib/python3.10/dist-packages (4.66.6)\n",
            "Requirement already satisfied: numpy>=1.22.4 in /usr/local/lib/python3.10/dist-packages (from pandas) (1.26.4)\n",
            "Requirement already satisfied: python-dateutil>=2.8.2 in /usr/local/lib/python3.10/dist-packages (from pandas) (2.8.2)\n",
            "Requirement already satisfied: pytz>=2020.1 in /usr/local/lib/python3.10/dist-packages (from pandas) (2024.2)\n",
            "Requirement already satisfied: tzdata>=2022.7 in /usr/local/lib/python3.10/dist-packages (from pandas) (2024.2)\n",
            "Requirement already satisfied: six>=1.5 in /usr/local/lib/python3.10/dist-packages (from python-dateutil>=2.8.2->pandas) (1.16.0)\n"
          ]
        }
      ],
      "source": [
        "# Install necessary libraries\n",
        "!pip install networkx pandas tqdm"
      ]
    },
    {
      "cell_type": "code",
      "execution_count": null,
      "metadata": {
        "colab": {
          "base_uri": "https://localhost:8080/"
        },
        "id": "0UXhY6RW_y27",
        "outputId": "586cc5cd-0e27-4189-aaf8-d9bcee03ae86"
      },
      "outputs": [
        {
          "output_type": "stream",
          "name": "stdout",
          "text": [
            "Downloading ConceptNet CSV data...\n",
            "--2024-12-08 04:31:34--  https://s3.amazonaws.com/conceptnet/downloads/2019/edges/conceptnet-assertions-5.7.0.csv.gz\n",
            "Resolving s3.amazonaws.com (s3.amazonaws.com)... 16.15.176.190, 54.231.163.144, 3.5.9.104, ...\n",
            "Connecting to s3.amazonaws.com (s3.amazonaws.com)|16.15.176.190|:443... connected.\n",
            "HTTP request sent, awaiting response... 200 OK\n",
            "Length: 497963447 (475M) [application/x-gzip]\n",
            "Saving to: ‘conceptnet-assertions-5.7.0.csv.gz’\n",
            "\n",
            "conceptnet-assertio 100%[===================>] 474.89M  36.9MB/s    in 14s     \n",
            "\n",
            "2024-12-08 04:31:48 (34.3 MB/s) - ‘conceptnet-assertions-5.7.0.csv.gz’ saved [497963447/497963447]\n",
            "\n",
            "Extracting CSV data...\n",
            "Extraction complete.\n"
          ]
        }
      ],
      "source": [
        "import os\n",
        "import gzip\n",
        "import shutil\n",
        "\n",
        "# Define URLs and file paths\n",
        "CONCEPTNET_URL = \"https://s3.amazonaws.com/conceptnet/downloads/2019/edges/conceptnet-assertions-5.7.0.csv.gz\"\n",
        "LOCAL_GZ_FILE = \"conceptnet-assertions-5.7.0.csv.gz\"\n",
        "LOCAL_CSV_FILE = \"conceptnet-assertions-5.7.0.csv\"\n",
        "\n",
        "# Download ConceptNet CSV data if not already downloaded\n",
        "if not os.path.exists(LOCAL_GZ_FILE):\n",
        "    print(\"Downloading ConceptNet CSV data...\")\n",
        "    !wget -O {LOCAL_GZ_FILE} {CONCEPTNET_URL}\n",
        "else:\n",
        "    print(\"ConceptNet CSV data already downloaded.\")\n",
        "\n",
        "# Extract the CSV file if not already extracted\n",
        "if not os.path.exists(LOCAL_CSV_FILE):\n",
        "    print(\"Extracting CSV data...\")\n",
        "    with gzip.open(LOCAL_GZ_FILE, 'rb') as f_in:\n",
        "        with open(LOCAL_CSV_FILE, 'wb') as f_out:\n",
        "            shutil.copyfileobj(f_in, f_out)\n",
        "    print(\"Extraction complete.\")\n",
        "else:\n",
        "    print(\"CSV data already extracted.\")"
      ]
    },
    {
      "cell_type": "code",
      "execution_count": null,
      "metadata": {
        "colab": {
          "base_uri": "https://localhost:8080/"
        },
        "id": "Ehts8OJGBQuv",
        "outputId": "630574ac-9890-41a6-9ce1-8430cb519775"
      },
      "outputs": [
        {
          "output_type": "stream",
          "name": "stdout",
          "text": [
            "\n",
            "Reading the first few lines of the CSV to inspect column names...\n",
            "Columns found in the CSV:\n",
            "[0, 1, 2, 3, 4]\n",
            "\n",
            "Sample data:\n",
            "                                                   0           1  \\\n",
            "0      /a/[/r/Antonym/,/c/ab/агыруа/n/,/c/ab/аҧсуа/]  /r/Antonym   \n",
            "1  /a/[/r/Antonym/,/c/adx/thəχ_kwo/a/,/c/adx/ʂap_...  /r/Antonym   \n",
            "2    /a/[/r/Antonym/,/c/adx/tok_po/a/,/c/adx/ʂa_wə/]  /r/Antonym   \n",
            "3    /a/[/r/Antonym/,/c/adx/ʂa_wə/a/,/c/adx/tok_po/]  /r/Antonym   \n",
            "4  /a/[/r/Antonym/,/c/adx/ʂap_wə/a/,/c/adx/thəχ_k...  /r/Antonym   \n",
            "\n",
            "                   2                3  \\\n",
            "0     /c/ab/агыруа/n      /c/ab/аҧсуа   \n",
            "1  /c/adx/thəχ_kwo/a    /c/adx/ʂap_wə   \n",
            "2    /c/adx/tok_po/a     /c/adx/ʂa_wə   \n",
            "3     /c/adx/ʂa_wə/a    /c/adx/tok_po   \n",
            "4    /c/adx/ʂap_wə/a  /c/adx/thəχ_kwo   \n",
            "\n",
            "                                                   4  \n",
            "0  {\"dataset\": \"/d/wiktionary/en\", \"license\": \"cc...  \n",
            "1  {\"dataset\": \"/d/wiktionary/fr\", \"license\": \"cc...  \n",
            "2  {\"dataset\": \"/d/wiktionary/fr\", \"license\": \"cc...  \n",
            "3  {\"dataset\": \"/d/wiktionary/fr\", \"license\": \"cc...  \n",
            "4  {\"dataset\": \"/d/wiktionary/fr\", \"license\": \"cc...  \n"
          ]
        }
      ],
      "source": [
        "import pandas as pd\n",
        "\n",
        "# Read the first few lines to inspect column names\n",
        "print(\"\\nReading the first few lines of the CSV to inspect column names...\")\n",
        "try:\n",
        "    # Read with tab separator and no header\n",
        "    sample_df = pd.read_csv(LOCAL_CSV_FILE, nrows=5, sep='\\t', header=None, encoding='utf-8')\n",
        "    print(\"Columns found in the CSV:\")\n",
        "    print(sample_df.columns.tolist())\n",
        "    print(\"\\nSample data:\")\n",
        "    print(sample_df)\n",
        "except Exception as e:\n",
        "    print(f\"Error reading CSV: {e}\")"
      ]
    },
    {
      "cell_type": "code",
      "execution_count": null,
      "metadata": {
        "id": "vvlbsU0fJAnZ"
      },
      "outputs": [],
      "source": [
        "import math\n",
        "from tqdm import tqdm\n",
        "import pandas as pd"
      ]
    },
    {
      "cell_type": "code",
      "execution_count": null,
      "metadata": {
        "colab": {
          "base_uri": "https://localhost:8080/"
        },
        "id": "MODfVu9X_2RR",
        "outputId": "1739c99e-2e19-4991-a6fc-381255cd4b21"
      },
      "outputs": [
        {
          "output_type": "stream",
          "name": "stdout",
          "text": [
            "Filtering ConceptNet CSV data...\n"
          ]
        },
        {
          "output_type": "stream",
          "name": "stderr",
          "text": [
            "Processing Chunks: 35it [05:04,  8.70s/it]\n"
          ]
        },
        {
          "output_type": "stream",
          "name": "stdout",
          "text": [
            "Filtered 2304597 edges into conceptnet-lite.csv\n"
          ]
        }
      ],
      "source": [
        "from tqdm import tqdm\n",
        "\n",
        "# Define filter criteria\n",
        "# SELECTED_RELATIONS = {\"/r/FormOf\", \"/r/HasA\", \"/r/IsA\", \"/r/Causes\", \"/r/DerivedFrom\",\"/r/Synonym\", \"/r/MadeOf\", \"/r/SimilarTo\", \"/r/CreatedBy\", \"/r/CapableOf\", \"/r/UsedFor\", }\n",
        "LANGUAGE_PREFIX = \"/c/en/\"\n",
        "SELECTED_RELATIONS = {\"/r/RelatedTo\", \"/r/FormOf\", \"/r/Synonym\"}\n",
        "# Define maximum number of filtered edges\n",
        "MAX_FILTERED_EDGES = float('inf')  # Adjust based on your needs\n",
        "\n",
        "def filter_conceptnet_csv(input_csv, output_csv, selected_relations, language_prefix, max_edges):\n",
        "    \"\"\"\n",
        "    Filters the ConceptNet CSV data based on selected relations and language.\n",
        "    Saves the filtered edges to a new CSV file.\n",
        "\n",
        "    Parameters:\n",
        "    - input_csv (str): Path to the input CSV file.\n",
        "    - output_csv (str): Path to save the filtered CSV file.\n",
        "    - selected_relations (set): Set of relations to include.\n",
        "    - language_prefix (str): Prefix indicating the language (e.g., '/c/en/').\n",
        "    - max_edges (int or float): Maximum number of edges to include. Use float('inf') for no limit.\n",
        "    \"\"\"\n",
        "    # Initialize counters and storage\n",
        "    count = 0\n",
        "    filtered_rows = []\n",
        "\n",
        "    # Read CSV in chunks to handle large files efficiently\n",
        "    chunksize = 1000000  # Adjust chunk size as needed\n",
        "    print(\"Filtering ConceptNet CSV data...\")\n",
        "    try:\n",
        "        # Iterate through each chunk with a progress bar\n",
        "        for chunk in tqdm(pd.read_csv(\n",
        "            input_csv,\n",
        "            sep='\\t',\n",
        "            header=None,\n",
        "            names=['@id', 'rel', 'start', 'end', 'metadata'],\n",
        "            chunksize=chunksize,\n",
        "            on_bad_lines='skip',\n",
        "            low_memory=False,\n",
        "            encoding='utf-8'\n",
        "        ), desc=\"Processing Chunks\"):\n",
        "\n",
        "            # Apply filtering criteria\n",
        "            mask = (\n",
        "                chunk['rel'].isin(selected_relations) &\n",
        "                chunk['start'].str.startswith(language_prefix) &\n",
        "                chunk['end'].str.startswith(language_prefix)\n",
        "            )\n",
        "            filtered = chunk[mask]\n",
        "            filtered_rows.append(filtered)\n",
        "            count += len(filtered)\n",
        "\n",
        "            # Check if the maximum number of edges has been reached\n",
        "            if count >= max_edges:\n",
        "                break\n",
        "    except Exception as e:\n",
        "        print(f\"Error during filtering: {e}\")\n",
        "\n",
        "    # Concatenate all filtered chunks\n",
        "    if filtered_rows:\n",
        "        filtered_data = pd.concat(filtered_rows)\n",
        "\n",
        "        # If max_edges is finite, limit the DataFrame\n",
        "        if not math.isinf(max_edges):\n",
        "            filtered_data = filtered_data.head(max_edges)\n",
        "    else:\n",
        "        filtered_data = pd.DataFrame(columns=['@id', 'rel', 'start', 'end', 'metadata'])\n",
        "\n",
        "    # Save the filtered data to the output CSV\n",
        "    filtered_data.to_csv(output_csv, index=False)\n",
        "    print(f\"Filtered {len(filtered_data)} edges into {output_csv}\")\n",
        "\n",
        "# Define file paths\n",
        "FILTERED_CSV_FILE = \"conceptnet-lite.csv\"\n",
        "\n",
        "# Run the filtering\n",
        "filter_conceptnet_csv(\n",
        "    input_csv=LOCAL_CSV_FILE,\n",
        "    output_csv=FILTERED_CSV_FILE,\n",
        "    selected_relations=SELECTED_RELATIONS,\n",
        "    language_prefix=LANGUAGE_PREFIX,\n",
        "    max_edges=MAX_FILTERED_EDGES\n",
        ")"
      ]
    },
    {
      "cell_type": "code",
      "execution_count": null,
      "metadata": {
        "colab": {
          "base_uri": "https://localhost:8080/"
        },
        "id": "BqkrRkKF_4S-",
        "outputId": "acd19157-be39-4f2a-9f10-1390054c3ac9"
      },
      "outputs": [
        {
          "output_type": "stream",
          "name": "stdout",
          "text": [
            "Requirement already satisfied: networkx in /usr/local/lib/python3.10/dist-packages (3.4.2)\n",
            "Requirement already satisfied: pandas in /usr/local/lib/python3.10/dist-packages (2.2.2)\n",
            "Requirement already satisfied: tqdm in /usr/local/lib/python3.10/dist-packages (4.66.6)\n",
            "Requirement already satisfied: numpy>=1.22.4 in /usr/local/lib/python3.10/dist-packages (from pandas) (1.26.4)\n",
            "Requirement already satisfied: python-dateutil>=2.8.2 in /usr/local/lib/python3.10/dist-packages (from pandas) (2.8.2)\n",
            "Requirement already satisfied: pytz>=2020.1 in /usr/local/lib/python3.10/dist-packages (from pandas) (2024.2)\n",
            "Requirement already satisfied: tzdata>=2022.7 in /usr/local/lib/python3.10/dist-packages (from pandas) (2024.2)\n",
            "Requirement already satisfied: six>=1.5 in /usr/local/lib/python3.10/dist-packages (from python-dateutil>=2.8.2->pandas) (1.16.0)\n"
          ]
        }
      ],
      "source": [
        "# Install necessary libraries\n",
        "!pip install networkx pandas tqdm"
      ]
    },
    {
      "cell_type": "code",
      "execution_count": null,
      "metadata": {
        "id": "2O59lA4wAA-8"
      },
      "outputs": [],
      "source": [
        "import networkx as nx\n",
        "import pandas as pd\n",
        "from tqdm import tqdm"
      ]
    },
    {
      "cell_type": "code",
      "execution_count": null,
      "metadata": {
        "id": "BjysFaGqCwlS"
      },
      "outputs": [],
      "source": [
        "import pandas as pd\n",
        "import networkx as nx\n",
        "from tqdm import tqdm\n",
        "\n",
        "def canonicalize_node(uri):\n",
        "    \"\"\"\n",
        "    Canonicalizes a ConceptNet URI by removing parts after the lemma.\n",
        "    For example:\n",
        "    \"/c/en/condiment/n\" -> \"/c/en/condiment\"\n",
        "    \"/c/en/condiments/n\" -> \"/c/en/condiments\"\n",
        "    \"/c/en/apple\" stays \"/c/en/apple\"\n",
        "    \"\"\"\n",
        "    parts = uri.strip('/').split('/')\n",
        "    # We expect something like [\"c\", \"en\", \"condiment\", \"n\"]\n",
        "    # Keep only the first three segments: c, language code, and the lemma\n",
        "    if len(parts) >= 3:\n",
        "        return \"/\" + \"/\".join(parts[:3])\n",
        "    else:\n",
        "        # If the URI doesn't follow the expected pattern, just return it as is.\n",
        "        return uri\n",
        "\n",
        "def load_conceptnet_lite_csv(file_path):\n",
        "    \"\"\"\n",
        "    Loads the filtered ConceptNet Lite CSV into a NetworkX graph.\n",
        "\n",
        "    Parameters:\n",
        "    - file_path (str): Path to the filtered CSV file.\n",
        "\n",
        "    Returns:\n",
        "    - G (networkx.Graph): The constructed undirected graph with canonicalized nodes.\n",
        "    \"\"\"\n",
        "    print(\"Loading ConceptNet Lite into NetworkX...\")\n",
        "    G = nx.Graph()\n",
        "\n",
        "    try:\n",
        "        # Read the CSV using pandas\n",
        "        df = pd.read_csv(file_path, sep=',', encoding='utf-8')\n",
        "    except Exception as e:\n",
        "        print(f\"Error reading filtered CSV: {e}\")\n",
        "        return G\n",
        "\n",
        "    # Iterate through the DataFrame and add edges\n",
        "    print(\"Adding edges to NetworkX...\")\n",
        "    for index, row in tqdm(df.iterrows(), total=df.shape[0], desc=\"Adding edges\"):\n",
        "        start = canonicalize_node(row['start'])\n",
        "        end = canonicalize_node(row['end'])\n",
        "        rel = row['rel']\n",
        "        G.add_edge(start, end, relation=rel)\n",
        "\n",
        "    print(f\"Graph has {G.number_of_nodes()} nodes and {G.number_of_edges()} edges.\")\n",
        "    return G\n"
      ]
    },
    {
      "cell_type": "code",
      "execution_count": null,
      "metadata": {
        "colab": {
          "base_uri": "https://localhost:8080/"
        },
        "id": "EaWEJEPbCyFi",
        "outputId": "a915e9f1-3c82-42f6-cea3-e2358f465a3b"
      },
      "outputs": [
        {
          "output_type": "stream",
          "name": "stdout",
          "text": [
            "Loading ConceptNet Lite into NetworkX...\n",
            "Adding edges to NetworkX...\n"
          ]
        },
        {
          "output_type": "stream",
          "name": "stderr",
          "text": [
            "Adding edges: 100%|██████████| 2304597/2304597 [04:32<00:00, 8453.51it/s]\n"
          ]
        },
        {
          "output_type": "stream",
          "name": "stdout",
          "text": [
            "Graph has 948526 nodes and 2052758 edges.\n"
          ]
        }
      ],
      "source": [
        "# Define the path to the filtered CSV\n",
        "FILTERED_CSV_FILE = \"conceptnet-lite.csv\"\n",
        "\n",
        "# Load the graph\n",
        "G = load_conceptnet_lite_csv(FILTERED_CSV_FILE)"
      ]
    },
    {
      "cell_type": "code",
      "execution_count": null,
      "metadata": {
        "colab": {
          "base_uri": "https://localhost:8080/"
        },
        "id": "VAGzsnrnQZbv",
        "outputId": "1a32981a-43ab-47fe-faf4-98426c67b9c3"
      },
      "outputs": [
        {
          "output_type": "stream",
          "name": "stdout",
          "text": [
            "The graph is already undirected.\n"
          ]
        }
      ],
      "source": [
        "# Convert directed graph to undirected\n",
        "if isinstance(G, nx.DiGraph):\n",
        "    print(\"Converting directed graph to undirected...\")\n",
        "    G_undirected = G.to_undirected()\n",
        "    print(\"Conversion complete.\")\n",
        "\n",
        "    # Optionally, replace the original graph with the undirected one\n",
        "    G = G_undirected\n",
        "else:\n",
        "    print(\"The graph is already undirected.\")"
      ]
    },
    {
      "cell_type": "code",
      "execution_count": null,
      "metadata": {
        "id": "Y_oNGQGUCzt4"
      },
      "outputs": [],
      "source": [
        "from collections import deque\n",
        "\n",
        "def multi_source_bfs(G, start_nodes, max_distance=3):\n",
        "    \"\"\"\n",
        "    Perform BFS from multiple start nodes up to max_distance.\n",
        "\n",
        "    Parameters:\n",
        "    - G (networkx.Graph): The graph to traverse.\n",
        "    - start_nodes (list): List of node identifiers to start BFS from.\n",
        "    - max_distance (int): Maximum distance to traverse.\n",
        "\n",
        "    Returns:\n",
        "    - distance (dict): Dictionary mapping nodes to their shortest distance from any start node.\n",
        "    \"\"\"\n",
        "    distance = {}\n",
        "    queue = deque()\n",
        "\n",
        "    # Initialize the queue and distance dictionary with start nodes\n",
        "    for node in start_nodes:\n",
        "        if node in G:\n",
        "            distance[node] = 0\n",
        "            queue.append((node, 0))\n",
        "        else:\n",
        "            print(f\"Warning: Start node {node} not in graph.\")\n",
        "\n",
        "    while queue:\n",
        "        current_node, current_distance = queue.popleft()\n",
        "\n",
        "        if current_distance >= max_distance:\n",
        "            continue\n",
        "\n",
        "        for neighbor in G.neighbors(current_node):\n",
        "            if neighbor not in distance:\n",
        "                distance[neighbor] = current_distance + 1\n",
        "                queue.append((neighbor, current_distance + 1))\n",
        "\n",
        "    return distance"
      ]
    },
    {
      "cell_type": "code",
      "execution_count": null,
      "metadata": {
        "id": "hLyh-blVDEZS"
      },
      "outputs": [],
      "source": [
        "# Define start concepts\n",
        "start_concepts = [\"ice_cream\"]  # Modify this list as needed\n",
        "\n",
        "# Convert start concepts to ConceptNet URIs\n",
        "start_uris = [f\"/c/en/{concept.lower()}\" for concept in start_concepts]"
      ]
    },
    {
      "cell_type": "code",
      "execution_count": null,
      "metadata": {
        "id": "u8yGPQXXDHZ6"
      },
      "outputs": [],
      "source": [
        "# Define the maximum distance for BFS\n",
        "max_distance = 5  # Adjust as needed\n",
        "\n",
        "# Perform BFS\n",
        "dist_map = multi_source_bfs(G, start_uris, max_distance)"
      ]
    },
    {
      "cell_type": "code",
      "source": [
        "# prompt: use grep to find out if \"/c/en/condiments/\" is in /content/conceptnet-lite.csv and print the lines if it is\n",
        "\n",
        "!grep \"/c/en/dietetic/\" /content/conceptnet-lite.csv"
      ],
      "metadata": {
        "colab": {
          "base_uri": "https://localhost:8080/"
        },
        "id": "56cifKpkQ9qe",
        "outputId": "1936c2c6-9559-476f-cd80-e54c15e069cf"
      },
      "execution_count": null,
      "outputs": [
        {
          "output_type": "stream",
          "name": "stdout",
          "text": [
            "\"/a/[/r/RelatedTo/,/c/en/dietetic/a/,/c/en/diet/]\",/r/RelatedTo,/c/en/dietetic/a,/c/en/diet,\"{\"\"dataset\"\": \"\"/d/wiktionary/en\"\", \"\"license\"\": \"\"cc:by-sa/4.0\"\", \"\"sources\"\": [{\"\"contributor\"\": \"\"/s/resource/wiktionary/en\"\", \"\"process\"\": \"\"/s/process/wikiparsec/2\"\"}], \"\"weight\"\": 1.0}\"\n",
            "\"/a/[/r/RelatedTo/,/c/en/dietic/a/,/c/en/dietetic/]\",/r/RelatedTo,/c/en/dietic/a,/c/en/dietetic,\"{\"\"dataset\"\": \"\"/d/wiktionary/en\"\", \"\"license\"\": \"\"cc:by-sa/4.0\"\", \"\"sources\"\": [{\"\"contributor\"\": \"\"/s/resource/wiktionary/en\"\", \"\"process\"\": \"\"/s/process/wikiparsec/2\"\"}], \"\"weight\"\": 1.0}\"\n",
            "\"/a/[/r/RelatedTo/,/c/en/dietical/a/,/c/en/dietetic/]\",/r/RelatedTo,/c/en/dietical/a,/c/en/dietetic,\"{\"\"dataset\"\": \"\"/d/wiktionary/en\"\", \"\"license\"\": \"\"cc:by-sa/4.0\"\", \"\"sources\"\": [{\"\"contributor\"\": \"\"/s/resource/wiktionary/en\"\", \"\"process\"\": \"\"/s/process/wikiparsec/2\"\"}], \"\"weight\"\": 1.0}\"\n",
            "\"/a/[/r/RelatedTo/,/c/en/grahamism/n/,/c/en/dietetic/]\",/r/RelatedTo,/c/en/grahamism/n,/c/en/dietetic,\"{\"\"dataset\"\": \"\"/d/wiktionary/en\"\", \"\"license\"\": \"\"cc:by-sa/4.0\"\", \"\"sources\"\": [{\"\"contributor\"\": \"\"/s/resource/wiktionary/en\"\", \"\"process\"\": \"\"/s/process/wikiparsec/2\"\"}], \"\"weight\"\": 1.0}\"\n",
            "\"/a/[/r/RelatedTo/,/c/en/grahamite/n/,/c/en/dietetic/]\",/r/RelatedTo,/c/en/grahamite/n,/c/en/dietetic,\"{\"\"dataset\"\": \"\"/d/wiktionary/en\"\", \"\"license\"\": \"\"cc:by-sa/4.0\"\", \"\"sources\"\": [{\"\"contributor\"\": \"\"/s/resource/wiktionary/en\"\", \"\"process\"\": \"\"/s/process/wikiparsec/2\"\"}], \"\"weight\"\": 1.0}\"\n",
            "\"/a/[/r/RelatedTo/,/c/en/low_fat/a/,/c/en/dietetic/]\",/r/RelatedTo,/c/en/low_fat/a,/c/en/dietetic,\"{\"\"dataset\"\": \"\"/d/wiktionary/en\"\", \"\"license\"\": \"\"cc:by-sa/4.0\"\", \"\"sources\"\": [{\"\"contributor\"\": \"\"/s/resource/wiktionary/en\"\", \"\"process\"\": \"\"/s/process/wikiparsec/2\"\"}], \"\"weight\"\": 1.0}\"\n",
            "\"/a/[/r/RelatedTo/,/c/en/nondietetic/a/,/c/en/dietetic/]\",/r/RelatedTo,/c/en/nondietetic/a,/c/en/dietetic,\"{\"\"dataset\"\": \"\"/d/wiktionary/en\"\", \"\"license\"\": \"\"cc:by-sa/4.0\"\", \"\"sources\"\": [{\"\"contributor\"\": \"\"/s/resource/wiktionary/en\"\", \"\"process\"\": \"\"/s/process/wikiparsec/2\"\"}], \"\"weight\"\": 1.0}\"\n",
            "\"/a/[/r/Synonym/,/c/en/dietetic/a/wn/,/c/en/dietary/a/wn/]\",/r/Synonym,/c/en/dietetic/a/wn,/c/en/dietary/a/wn,\"{\"\"dataset\"\": \"\"/d/wordnet/3.1\"\", \"\"license\"\": \"\"cc:by/4.0\"\", \"\"sources\"\": [{\"\"contributor\"\": \"\"/s/resource/wordnet/rdf/3.1\"\"}], \"\"surfaceEnd\"\": \"\"dietary\"\", \"\"surfaceStart\"\": \"\"dietetic\"\", \"\"surfaceText\"\": \"\"[[dietetic]] is a synonym of [[dietary]]\"\", \"\"weight\"\": 2.0}\"\n"
          ]
        }
      ]
    },
    {
      "cell_type": "code",
      "execution_count": null,
      "metadata": {
        "colab": {
          "base_uri": "https://localhost:8080/"
        },
        "id": "uCn7NtNxDKLh",
        "outputId": "83244b32-27ea-42c4-9686-70b3feeea440"
      },
      "outputs": [
        {
          "output_type": "stream",
          "name": "stdout",
          "text": [
            "\n",
            "=== Distance Summary ===\n",
            "Distance 0: 1 nodes\n",
            "Distance 1: 95 nodes\n",
            "Distance 2: 3794 nodes\n",
            "Distance 3: 129606 nodes\n",
            "Distance 4: 402645 nodes\n",
            "Distance 5: 256817 nodes\n"
          ]
        }
      ],
      "source": [
        "from collections import defaultdict\n",
        "\n",
        "# Create a dictionary to count nodes at each distance\n",
        "distance_counts = defaultdict(int)\n",
        "for node, dist in dist_map.items():\n",
        "    distance_counts[dist] += 1\n",
        "\n",
        "print(\"\\n=== Distance Summary ===\")\n",
        "for d in sorted(distance_counts):\n",
        "    print(f\"Distance {d}: {distance_counts[d]} nodes\")"
      ]
    },
    {
      "cell_type": "code",
      "execution_count": null,
      "metadata": {
        "id": "XQ2CvLW1DVEk"
      },
      "outputs": [],
      "source": [
        "def get_distance(node, dist_map):\n",
        "    \"\"\"\n",
        "    Retrieve the distance of a node from the start set.\n",
        "\n",
        "    Parameters:\n",
        "    - node (str): The ConceptNet URI of the node.\n",
        "    - dist_map (dict): The distance mapping obtained from BFS.\n",
        "\n",
        "    Returns:\n",
        "    - distance (int or float): The distance to the node, or float('inf') if unreachable.\n",
        "    \"\"\"\n",
        "    return dist_map.get(node, float('inf'))"
      ]
    },
    {
      "cell_type": "code",
      "execution_count": null,
      "metadata": {
        "colab": {
          "base_uri": "https://localhost:8080/"
        },
        "id": "fpgrqvPvDYDz",
        "outputId": "31650eb8-fc9b-40bb-ae2c-fac3d1497eac"
      },
      "outputs": [
        {
          "output_type": "stream",
          "name": "stdout",
          "text": [
            "\n",
            "=== Specific Node Distances ===\n",
            "Distance to '/c/en/apple': 3\n",
            "Distance to '/c/en/egg': 2\n",
            "Distance to '/c/en/meat': 3\n",
            "Distance to '/c/en/dairy': 1\n",
            "Distance to '/c/en/milk': 2\n",
            "Distance to '/c/en/sausages': 4\n"
          ]
        }
      ],
      "source": [
        "# Example: Check distance to 'orchard'\n",
        "# orchard_uri = \"/c/en/wine\"\n",
        "# orchard_distance = get_distance(orchard_uri, dist_map)\n",
        "# print(f\"\\nDistance from start set to 'orchard': {orchard_distance if orchard_distance != float('inf') else 'inf'}\")\n",
        "\n",
        "# Example: Check distances for multiple nodes\n",
        "nodes_to_check = [\"/c/en/apple\", \"/c/en/egg\", \"/c/en/meat\", \"/c/en/dairy\", \"/c/en/milk\", \"/c/en/sausages\" ]\n",
        "print(\"\\n=== Specific Node Distances ===\")\n",
        "for node in nodes_to_check:\n",
        "    dist = get_distance(node, dist_map)\n",
        "    print(f\"Distance to '{node}': {dist if dist != float('inf') else 'inf'}\")"
      ]
    },
    {
      "cell_type": "code",
      "execution_count": null,
      "metadata": {
        "id": "QkaErWMaDamV"
      },
      "outputs": [],
      "source": [
        "!cp /content/conceptnet-lite[RelatedTo,FormOf,Synonym].csv /content/drive/MyDrive/NeSym"
      ]
    },
    {
      "cell_type": "code",
      "source": [],
      "metadata": {
        "id": "N58eM0WpufRA"
      },
      "execution_count": null,
      "outputs": []
    }
  ],
  "metadata": {
    "colab": {
      "provenance": []
    },
    "kernelspec": {
      "display_name": "Python 3",
      "name": "python3"
    },
    "language_info": {
      "name": "python"
    }
  },
  "nbformat": 4,
  "nbformat_minor": 0
}